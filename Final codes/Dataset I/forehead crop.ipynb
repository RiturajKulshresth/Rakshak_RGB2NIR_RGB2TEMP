{
 "cells": [
  {
   "cell_type": "code",
   "execution_count": 1,
   "metadata": {},
   "outputs": [
    {
     "name": "stderr",
     "output_type": "stream",
     "text": [
      "Using TensorFlow backend.\n"
     ]
    }
   ],
   "source": [
    "from PIL import Image\n",
    "import matplotlib.pyplot as plt\n",
    "import numpy as np\n",
    "from matplotlib import cm\n",
    "import imageio\n",
    "%matplotlib inline\n",
    "import os\n",
    "from numpy import expand_dims\n",
    "from keras.preprocessing.image import load_img\n",
    "from keras.preprocessing.image import img_to_array\n",
    "from keras.preprocessing.image import ImageDataGenerator\n",
    "from matplotlib import pyplot"
   ]
  },
  {
   "cell_type": "code",
   "execution_count": 2,
   "metadata": {},
   "outputs": [],
   "source": [
    "img_path=r\"/home/netrunner/Pictures/qww/full_images\"\n",
    "img_crop_path=r\"/home/netrunner/Pictures/qww/crops\"\n",
    "im=Image.open(r\"/home/netrunner/Desktop/Raks/photos/1.jpg\")"
   ]
  },
  {
   "cell_type": "code",
   "execution_count": 3,
   "metadata": {},
   "outputs": [
    {
     "name": "stdout",
     "output_type": "stream",
     "text": [
      "<class 'PIL.JpegImagePlugin.JpegImageFile'>\n"
     ]
    }
   ],
   "source": [
    "width, height = im.size\n",
    "left = (width/2)-1000\n",
    "top = (height/2)-600\n",
    "right = (width/2)+1000\n",
    "bottom = (height/2)+600\n",
    "\n",
    "box=(left,top,right,bottom)\n",
    "\n",
    "im1= im.crop((left,top, right, bottom))\n",
    "r, g, b = im1.split()\n",
    "print(type(im))"
   ]
  },
  {
   "cell_type": "code",
   "execution_count": 4,
   "metadata": {},
   "outputs": [],
   "source": [
    "#Croppper For images in the path\n",
    "for img in os.listdir(img_path):\n",
    "    try:\n",
    "        temp_img_path=os.path.join(img_path,i)\n",
    "        temp_img_crop_path=os.path.join(img_crop_path, i)\n",
    "        img=Image.open(temp_img_path)\n",
    "        crop = img.crop(box)\n",
    "        crop.save(temp_img_crop_path)\n",
    "    except:\n",
    "        pass\n",
    "# print(temp_img_path)"
   ]
  },
  {
   "cell_type": "code",
   "execution_count": 6,
   "metadata": {},
   "outputs": [
    {
     "ename": "NameError",
     "evalue": "name 'path' is not defined",
     "output_type": "error",
     "traceback": [
      "\u001b[0;31m---------------------------------------------------------------------------\u001b[0m",
      "\u001b[0;31mNameError\u001b[0m                                 Traceback (most recent call last)",
      "\u001b[0;32m<ipython-input-6-8b65a94572e2>\u001b[0m in \u001b[0;36m<module>\u001b[0;34m\u001b[0m\n\u001b[0;32m----> 1\u001b[0;31m \u001b[0;32mfor\u001b[0m \u001b[0mimg\u001b[0m \u001b[0;32min\u001b[0m \u001b[0mos\u001b[0m\u001b[0;34m.\u001b[0m\u001b[0mlistdir\u001b[0m\u001b[0;34m(\u001b[0m\u001b[0mpath\u001b[0m\u001b[0;34m)\u001b[0m\u001b[0;34m:\u001b[0m\u001b[0;34m\u001b[0m\u001b[0;34m\u001b[0m\u001b[0m\n\u001b[0m\u001b[1;32m      2\u001b[0m     \u001b[0mimg_x\u001b[0m\u001b[0;34m=\u001b[0m\u001b[0mcv2\u001b[0m\u001b[0;34m.\u001b[0m\u001b[0mimread\u001b[0m\u001b[0;34m(\u001b[0m\u001b[0mos\u001b[0m\u001b[0;34m.\u001b[0m\u001b[0mpath\u001b[0m\u001b[0;34m.\u001b[0m\u001b[0mjoin\u001b[0m\u001b[0;34m(\u001b[0m\u001b[0mpath\u001b[0m\u001b[0;34m,\u001b[0m\u001b[0mimg\u001b[0m\u001b[0;34m)\u001b[0m\u001b[0;34m)\u001b[0m\u001b[0;34m\u001b[0m\u001b[0;34m\u001b[0m\u001b[0m\n\u001b[1;32m      3\u001b[0m     \u001b[0;31m# img_x=cv2.cvtColor(img_x, cv2.COLOR_BGR2RGB)\u001b[0m\u001b[0;34m\u001b[0m\u001b[0;34m\u001b[0m\u001b[0;34m\u001b[0m\u001b[0m\n\u001b[1;32m      4\u001b[0m     \u001b[0mb\u001b[0m\u001b[0;34m,\u001b[0m\u001b[0mg\u001b[0m\u001b[0;34m,\u001b[0m\u001b[0mr\u001b[0m \u001b[0;34m=\u001b[0m \u001b[0mcv2\u001b[0m\u001b[0;34m.\u001b[0m\u001b[0msplit\u001b[0m\u001b[0;34m(\u001b[0m\u001b[0mimg_x\u001b[0m\u001b[0;34m)\u001b[0m\u001b[0;34m\u001b[0m\u001b[0;34m\u001b[0m\u001b[0m\n\u001b[1;32m      5\u001b[0m     \u001b[0mplt\u001b[0m\u001b[0;34m.\u001b[0m\u001b[0mimshow\u001b[0m\u001b[0;34m(\u001b[0m\u001b[0mr\u001b[0m\u001b[0;34m,\u001b[0m\u001b[0mcmap\u001b[0m\u001b[0;34m=\u001b[0m\u001b[0;34m'gray'\u001b[0m\u001b[0;34m)\u001b[0m\u001b[0;34m\u001b[0m\u001b[0;34m\u001b[0m\u001b[0m\n",
      "\u001b[0;31mNameError\u001b[0m: name 'path' is not defined"
     ]
    }
   ],
   "source": [
    "for img in os.listdir(path):\n",
    "    img_x=cv2.imread(os.path.join(path,img))\n",
    "    # img_x=cv2.cvtColor(img_x, cv2.COLOR_BGR2RGB)\n",
    "    b,g,r = cv2.split(img_x)\n",
    "    plt.imshow(r,cmap='gray')\n",
    "    plt.show()\n",
    "    cv2.imwrite(\"r_\"+img,r)\n",
    "    plt.imshow(g,cmap='gray')\n",
    "    plt.show()\n",
    "    cv2.imwrite(\"g_\"+img,r)\n",
    "    plt.imshow(b,cmap='gray')\n",
    "    cv2.imwrite(\"b_\"+img,r)\n",
    "    plt.show()\n",
    "    # plt.show()\n",
    "    break"
   ]
  },
  {
   "cell_type": "code",
   "execution_count": null,
   "metadata": {},
   "outputs": [],
   "source": [
    "f=plt.figure(figsize=(15,15))\n",
    "ax1=f.add_subplot(141)\n",
    "ax1.title.set_text(\"RGB\")\n",
    "plt.imshow(im1)\n",
    "ax2=f.add_subplot(142)\n",
    "# f.set_title(\"RGB\")\n",
    "# ax=f.add_subplot(111)\n",
    "ax2.title.set_text(\"B\")\n",
    "plt.imshow(b, cmap='gray', vmin=0, vmax=255)\n",
    "ax3=f.add_subplot(143)\n",
    "# f.set_title(\"B\")\n",
    "ax3.title.set_text(\"G\")\n",
    "plt.imshow(g, cmap='gray', vmin=0, vmax=255)\n",
    "ax4=f.add_subplot(144)\n",
    "ax4.title.set_text(\"R\")\n",
    "plt.imshow(r, cmap='gray', vmin=0, vmax=255)"
   ]
  },
  {
   "cell_type": "code",
   "execution_count": null,
   "metadata": {},
   "outputs": [],
   "source": []
  }
 ],
 "metadata": {
  "kernelspec": {
   "display_name": "Python 3",
   "language": "python",
   "name": "python3"
  },
  "language_info": {
   "codemirror_mode": {
    "name": "ipython",
    "version": 3
   },
   "file_extension": ".py",
   "mimetype": "text/x-python",
   "name": "python",
   "nbconvert_exporter": "python",
   "pygments_lexer": "ipython3",
   "version": "3.6.10"
  }
 },
 "nbformat": 4,
 "nbformat_minor": 4
}

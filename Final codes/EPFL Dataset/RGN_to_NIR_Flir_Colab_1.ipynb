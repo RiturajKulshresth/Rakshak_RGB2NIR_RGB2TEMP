{
  "nbformat": 4,
  "nbformat_minor": 0,
  "metadata": {
    "colab": {
      "name": "RGN to NIR Flir Colab 1.ipynb",
      "provenance": [],
      "collapsed_sections": []
    },
    "kernelspec": {
      "name": "python3",
      "display_name": "Python 3"
    },
    "accelerator": "GPU"
  },
  "cells": [
    {
      "cell_type": "code",
      "metadata": {
        "id": "dNCvQyXL3Zqp"
      },
      "source": [
        "import cv2\n",
        "from os import listdir\n",
        "from pickle import dump\n",
        "from pickle import load\n",
        "from keras.applications.vgg16 import VGG16\n",
        "from keras.preprocessing.image import load_img\n",
        "from keras.preprocessing.image import img_to_array\n",
        "from keras.applications.vgg16 import preprocess_input\n",
        "from keras.models import Model\n",
        "import numpy as np\n",
        "from keras.layers import Input\n",
        "from keras.layers import Dense\n",
        "from keras.utils import plot_model\n",
        "from keras.models import load_model\n",
        "import matplotlib.pyplot as plt\n",
        "from matplotlib import cm\n",
        "import tensorflow as tf\n",
        "from keras.models import Sequential\n",
        "from keras.layers import Conv2D, UpSampling2D\n",
        "from PIL import Image\n",
        "import matplotlib.image as mpimg\n",
        "\n",
        "%matplotlib inline"
      ],
      "execution_count": null,
      "outputs": []
    },
    {
      "cell_type": "code",
      "metadata": {
        "colab": {
          "base_uri": "https://localhost:8080/",
          "height": 362
        },
        "id": "UGcuYLNOHXl0",
        "outputId": "d27b4980-2550-4f96-ccda-f90b6bbd4ccf"
      },
      "source": [
        "path='/content/gdrive/MyDrive/Profile.jpg'\n",
        "img=mpimg.imread(path)\n",
        "plt.imshow(img)\n",
        "plt.show()"
      ],
      "execution_count": null,
      "outputs": [
        {
          "output_type": "error",
          "ename": "FileNotFoundError",
          "evalue": "ignored",
          "traceback": [
            "\u001b[0;31m---------------------------------------------------------------------------\u001b[0m",
            "\u001b[0;31mFileNotFoundError\u001b[0m                         Traceback (most recent call last)",
            "\u001b[0;32m<ipython-input-3-4a6648ef22e5>\u001b[0m in \u001b[0;36m<module>\u001b[0;34m()\u001b[0m\n\u001b[1;32m      1\u001b[0m \u001b[0mpath\u001b[0m\u001b[0;34m=\u001b[0m\u001b[0;34m'/content/gdrive/MyDrive/Profile.jpg'\u001b[0m\u001b[0;34m\u001b[0m\u001b[0;34m\u001b[0m\u001b[0m\n\u001b[0;32m----> 2\u001b[0;31m \u001b[0mimg\u001b[0m\u001b[0;34m=\u001b[0m\u001b[0mmpimg\u001b[0m\u001b[0;34m.\u001b[0m\u001b[0mimread\u001b[0m\u001b[0;34m(\u001b[0m\u001b[0mpath\u001b[0m\u001b[0;34m)\u001b[0m\u001b[0;34m\u001b[0m\u001b[0;34m\u001b[0m\u001b[0m\n\u001b[0m\u001b[1;32m      3\u001b[0m \u001b[0mplt\u001b[0m\u001b[0;34m.\u001b[0m\u001b[0mimshow\u001b[0m\u001b[0;34m(\u001b[0m\u001b[0mimg\u001b[0m\u001b[0;34m)\u001b[0m\u001b[0;34m\u001b[0m\u001b[0;34m\u001b[0m\u001b[0m\n\u001b[1;32m      4\u001b[0m \u001b[0mplt\u001b[0m\u001b[0;34m.\u001b[0m\u001b[0mshow\u001b[0m\u001b[0;34m(\u001b[0m\u001b[0;34m)\u001b[0m\u001b[0;34m\u001b[0m\u001b[0;34m\u001b[0m\u001b[0m\n",
            "\u001b[0;32m/usr/local/lib/python3.7/dist-packages/matplotlib/image.py\u001b[0m in \u001b[0;36mimread\u001b[0;34m(fname, format)\u001b[0m\n\u001b[1;32m   1462\u001b[0m             raise ValueError('Only know how to handle PNG; with Pillow '\n\u001b[1;32m   1463\u001b[0m                              'installed, Matplotlib can handle more images')\n\u001b[0;32m-> 1464\u001b[0;31m         \u001b[0;32mwith\u001b[0m \u001b[0mImage\u001b[0m\u001b[0;34m.\u001b[0m\u001b[0mopen\u001b[0m\u001b[0;34m(\u001b[0m\u001b[0mfname\u001b[0m\u001b[0;34m)\u001b[0m \u001b[0;32mas\u001b[0m \u001b[0mimage\u001b[0m\u001b[0;34m:\u001b[0m\u001b[0;34m\u001b[0m\u001b[0;34m\u001b[0m\u001b[0m\n\u001b[0m\u001b[1;32m   1465\u001b[0m             \u001b[0;32mreturn\u001b[0m \u001b[0mpil_to_array\u001b[0m\u001b[0;34m(\u001b[0m\u001b[0mimage\u001b[0m\u001b[0;34m)\u001b[0m\u001b[0;34m\u001b[0m\u001b[0;34m\u001b[0m\u001b[0m\n\u001b[1;32m   1466\u001b[0m     \u001b[0;32mfrom\u001b[0m \u001b[0mmatplotlib\u001b[0m \u001b[0;32mimport\u001b[0m \u001b[0m_png\u001b[0m\u001b[0;34m\u001b[0m\u001b[0;34m\u001b[0m\u001b[0m\n",
            "\u001b[0;32m/usr/local/lib/python3.7/dist-packages/PIL/Image.py\u001b[0m in \u001b[0;36mopen\u001b[0;34m(fp, mode)\u001b[0m\n\u001b[1;32m   2807\u001b[0m \u001b[0;34m\u001b[0m\u001b[0m\n\u001b[1;32m   2808\u001b[0m     \u001b[0;32mif\u001b[0m \u001b[0mfilename\u001b[0m\u001b[0;34m:\u001b[0m\u001b[0;34m\u001b[0m\u001b[0;34m\u001b[0m\u001b[0m\n\u001b[0;32m-> 2809\u001b[0;31m         \u001b[0mfp\u001b[0m \u001b[0;34m=\u001b[0m \u001b[0mbuiltins\u001b[0m\u001b[0;34m.\u001b[0m\u001b[0mopen\u001b[0m\u001b[0;34m(\u001b[0m\u001b[0mfilename\u001b[0m\u001b[0;34m,\u001b[0m \u001b[0;34m\"rb\"\u001b[0m\u001b[0;34m)\u001b[0m\u001b[0;34m\u001b[0m\u001b[0;34m\u001b[0m\u001b[0m\n\u001b[0m\u001b[1;32m   2810\u001b[0m         \u001b[0mexclusive_fp\u001b[0m \u001b[0;34m=\u001b[0m \u001b[0;32mTrue\u001b[0m\u001b[0;34m\u001b[0m\u001b[0;34m\u001b[0m\u001b[0m\n\u001b[1;32m   2811\u001b[0m \u001b[0;34m\u001b[0m\u001b[0m\n",
            "\u001b[0;31mFileNotFoundError\u001b[0m: [Errno 2] No such file or directory: '/content/gdrive/MyDrive/Profile.jpg'"
          ]
        }
      ]
    },
    {
      "cell_type": "code",
      "metadata": {
        "id": "eYVBTb8cICOZ"
      },
      "source": [
        "!ls /content/gdrive/MyDrive\n",
        "\n",
        "\n",
        "\n",
        "\n"
      ],
      "execution_count": null,
      "outputs": []
    },
    {
      "cell_type": "code",
      "metadata": {
        "id": "Q-tbuwspE-mP"
      },
      "source": [
        "path = '/content/gdrive/MyDrive/val_256/NIR'\n",
        "f=plt.figure(figsize=(24,24))\n",
        "\n",
        "for file in listdir(path):\n",
        "    nir_img_path = '/content/gdrive/MyDrive/val_256/NIR/' + file\n",
        "    rgb_img_path = '/content/gdrive/MyDrive/val_256/RGB/' + file\n",
        "    if(file==\"013.tiff\"):\n",
        "        img_nir = cv2.imread(nir_img_path)\n",
        "        ax1=f.add_subplot(141)\n",
        "        ax1.title.set_text(\"NIR\")\n",
        "        plt.imshow(img_nir)\n",
        "#         plt.show()\n",
        "        img_rgb = cv2.imread(rgb_img_path)\n",
        "        ax1=f.add_subplot(142)\n",
        "        ax1.title.set_text(\"RGB\")\n",
        "        plt.imshow(img_rgb)\n",
        "        new_array= cv2.resize(img_nir, (512,512))\n",
        "        ax1=f.add_subplot(143)\n",
        "        plt.imshow(new_array)\n",
        "        plt.show()"
      ],
      "execution_count": null,
      "outputs": []
    },
    {
      "cell_type": "code",
      "metadata": {
        "id": "0f6TNsvaEENO"
      },
      "source": [
        ""
      ],
      "execution_count": null,
      "outputs": []
    },
    {
      "cell_type": "code",
      "metadata": {
        "id": "6Z8qRm_BFBkT"
      },
      "source": [
        "print(img_nir.shape)"
      ],
      "execution_count": null,
      "outputs": []
    },
    {
      "cell_type": "code",
      "metadata": {
        "id": "5EtsPiEIFD0F"
      },
      "source": [
        "print (img_rgb.shape)"
      ],
      "execution_count": null,
      "outputs": []
    },
    {
      "cell_type": "code",
      "metadata": {
        "id": "_-arQ32gFFQ7"
      },
      "source": [
        "img_nir_split,g,b= cv2.split(img_nir)\n",
        "print(img_nir_split.shape)"
      ],
      "execution_count": null,
      "outputs": []
    },
    {
      "cell_type": "code",
      "metadata": {
        "id": "jvHu2iwoFG44"
      },
      "source": [
        "plt.imshow(img_nir_split, cmap='gray')"
      ],
      "execution_count": null,
      "outputs": []
    },
    {
      "cell_type": "code",
      "metadata": {
        "id": "F2eCAIkdFJme"
      },
      "source": [
        "# dataset\n",
        "X=[]\n",
        "Y=[]\n",
        "training_data=[]\n",
        "errors=[]\n",
        "for file in listdir(path):\n",
        "    try:\n",
        "        nir_img_path = '/content/gdrive/MyDrive/val_256/NIR/' + file\n",
        "        rgb_img_path = '/content/gdrive/MyDrive/val_256/RGB/' + file\n",
        "        img_nir = cv2.imread(nir_img_path)\n",
        "        img_rgb = cv2.imread(rgb_img_path)\n",
        "        img_nir = cv2.resize(img_nir,(512,512))\n",
        "        img_rgb = cv2.resize(img_rgb,(512,512))\n",
        "\n",
        "        training_data.append([img_rgb, img_nir])\n",
        "\n",
        "\n",
        "        X.append(img_rgb)\n",
        "        Y.append(img_nir)\n",
        "    except Exception as e:\n",
        "        errors.append(e)\n",
        "        \n",
        "print(len(errors))\n",
        "X = np.array(X).reshape(-1, 512, 512, 3)\n",
        "Y = np.array(Y).reshape(-1, 512, 512, 3) \n",
        "print (len(training_data))"
      ],
      "execution_count": null,
      "outputs": []
    },
    {
      "cell_type": "code",
      "metadata": {
        "id": "yjqVPuZYFKkI"
      },
      "source": [
        "#  model \n",
        "\n",
        "# encoder\n",
        "\n",
        "model=Sequential()\n",
        "\n",
        "\n",
        "model.add(Conv2D(64, (3,3), activation='relu', padding='same', strides=2, input_shape=(512,512,3)))\n",
        "model.add(Conv2D(128, (3,3), activation='relu', padding='same'))\n",
        "model.add(Conv2D(128, (3,3), activation='relu', padding='same', strides=2))\n",
        "model.add(Conv2D(256, (3,3), activation='relu', padding='same'))\n",
        "model.add(Conv2D(256, (3,3), activation='relu', padding='same', strides=2))\n",
        "model.add(Conv2D(512, (3,3), activation='relu', padding='same'))\n",
        "model.add(Conv2D(512, (3,3), activation='relu', padding='same'))\n",
        "model.add(Conv2D(256, (3,3), activation='relu', padding='same'))\n",
        "\n",
        "# decoder\n",
        "\n",
        "model.add(Conv2D(128, (3,3), activation='relu', padding='same'))\n",
        "model.add(UpSampling2D((2, 2)))\n",
        "model.add(Conv2D(64, (3,3), activation='relu', padding='same'))\n",
        "model.add(UpSampling2D((2, 2)))\n",
        "model.add(Conv2D(32, (3,3), activation='relu', padding='same'))\n",
        "model.add(Conv2D(16, (3,3), activation='relu', padding='same'))\n",
        "model.add(Conv2D(3, (3, 3), activation='tanh', padding='same'))\n",
        "model.add(UpSampling2D((2, 2)))\n",
        "\n",
        "model.compile(optimizer='adam', loss='mse', metrics=['accuracy'])\n",
        "model.summary()\n",
        "\n",
        "model.fit(X, Y, validation_split=0.1, epochs=10, batch_size=30, verbose=1)\n"
      ],
      "execution_count": null,
      "outputs": []
    },
    {
      "cell_type": "code",
      "metadata": {
        "id": "gYcGevdoQHEa"
      },
      "source": [
        "tf.keras.models.load_model('/home/netrunner/Desktop/Raks/val_256/cat1.model', custom_objects=None, compile=True)\n",
        "arr=[]\n",
        "\n",
        "img1 = cv2.imread('/home/netrunner/Desktop/Raks/val_256/458.tiff')\n",
        "img1 = cv2.resize(img1 ,(512,512))\n",
        "plt.imshow(img1)\n",
        "# print(img1)\n",
        "# img1/255\n",
        "# print(img1)\n",
        "arr.append(img1)\n",
        "# np.append(img1_nir, img1)\n",
        "\n",
        "\n",
        "arr = np.array(arr, dtype = float)\n",
        "arr = arr.reshape(arr.shape)\n",
        "\n",
        "output=model.predict(arr)\n",
        "output=output*255\n",
        "result=np.zeros((512,512,3))\n",
        "result[:,:,:]=output[0][:,:,:]\n",
        "print(output[0])\n",
        "plt.imshow(result)\n",
        "print(\"cat\")\n",
        "print(result)\n",
        "cv2.imwrite(\"otp.jpg\", result)"
      ],
      "execution_count": null,
      "outputs": []
    },
    {
      "cell_type": "code",
      "metadata": {
        "id": "l4zhGqIYEIq3"
      },
      "source": [
        "from google.colab import drive\n",
        "\n",
        "drive.mount('/content/gdrive')"
      ],
      "execution_count": null,
      "outputs": []
    }
  ]
}
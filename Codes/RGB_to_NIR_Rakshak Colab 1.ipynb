{
  "nbformat": 4,
  "nbformat_minor": 0,
  "metadata": {
    "accelerator": "GPU",
    "colab": {
      "name": "RGB to NIR Rakshak.ipynb",
      "provenance": []
    },
    "kernelspec": {
      "display_name": "Python 3",
      "name": "python3"
    },
    "language_info": {
      "name": "python"
    }
  },
  "cells": [
    {
      "cell_type": "code",
      "metadata": {
        "colab": {
          "base_uri": "https://localhost:8080/"
        },
        "id": "-QhsTQbBV9Zt",
        "outputId": "e9a8c24e-c6d2-461d-a1d7-6efc1345b821"
      },
      "source": [
        "from google.colab import drive\n",
        "\n",
        "drive.mount('/content/drive', force_remount=True)"
      ],
      "execution_count": null,
      "outputs": [
        {
          "output_type": "stream",
          "text": [
            "Mounted at /content/drive\n"
          ],
          "name": "stdout"
        }
      ]
    },
    {
      "cell_type": "code",
      "metadata": {
        "colab": {
          "base_uri": "https://localhost:8080/"
        },
        "id": "aYf4O_LxsF1U",
        "outputId": "6805fd45-55e0-4705-f8c5-ff8f115a5d1b"
      },
      "source": [
        "!ls \"/content/drive/MyDrive/raks_rgb2nir\""
      ],
      "execution_count": null,
      "outputs": [
        {
          "output_type": "stream",
          "text": [
            "NIR  result  RGB  test\n"
          ],
          "name": "stdout"
        }
      ]
    },
    {
      "cell_type": "code",
      "metadata": {
        "colab": {
          "base_uri": "https://localhost:8080/"
        },
        "id": "0ffRtz9ssICI",
        "outputId": "47bcd64a-42aa-4595-f327-8b34cea9c8c3"
      },
      "source": [
        "from matplotlib.pyplot import imshow\n",
        "import numpy as np\n",
        "import cv2\n",
        "from keras.preprocessing.image import img_to_array\n",
        "from tensorflow.keras.layers import Conv2D, MaxPooling2D, UpSampling2D\n",
        "from tensorflow.keras.models import Sequential\n",
        "import os\n",
        "from tqdm import tqdm\n",
        "\n",
        "Size = 256\n",
        "c=d=0\n",
        "img_data = []\n",
        "path=''\n",
        "path1 = '/content/drive/MyDrive/raks_rgb2nir/RGB'\n",
        "files = os.listdir(path1)\n",
        "for i in tqdm(files):\n",
        "    img = cv2.imread(path1 + '/' + i, 1)\n",
        "    img = cv2.cvtColor(img, cv2.COLOR_BGR2RGB)\n",
        "    img = cv2.resize(img, (Size, Size))\n",
        "    img_data.append(img_to_array(img))\n",
        "    # c=c+1\n",
        "    # if(c==200):\n",
        "    #   break\n",
        "# img = cv2.imread('/home/netrunner/Desktop/Raks/val_256/458_c.tiff',1)\n",
        "# img = cv2.cvtColor(img, cv2.COLOR_BGR2RGB)\n",
        "# img = cv2.resize(img,(Size,Size))\n",
        "# img_data.append(img_to_array(img))\n",
        "\n",
        "img_array = np.reshape(img_data, (len(img_data), Size, Size, 3))\n",
        "img_array = img_array.astype('float32')/255.\n",
        "\n",
        "img_data2 = []\n",
        "\n",
        "path2 ='/content/drive/MyDrive/raks_rgb2nir/NIR'\n",
        "files = os.listdir(path2)\n",
        "for i in tqdm(files):\n",
        "    img = cv2.imread(path2+'/'+i,1)\n",
        "    img = cv2.cvtColor(img, cv2.COLOR_BGR2RGB)\n",
        "    img = cv2.cvtColor(img, cv2.COLOR_RGB2GRAY)\n",
        "    n_img = np.stack((img,)*3, axis=-1)\n",
        "\n",
        "    n_img = cv2.resize(n_img, (Size, Size))\n",
        "    img_data2.append(img_to_array(n_img))\n",
        "    # d=d+1\n",
        "    # if(d==200):\n",
        "    #   break\n",
        "# img2 = cv2.imread('/home/netrunner/Desktop/Raks/val_256/458.tiff',1)\n",
        "# img2 = cv2.cvtColor(img2, cv2.COLOR_BGR2RGB)\n",
        "# img2 = cv2.resize (img2,(Size,Size))\n",
        "# img_data2.append(img_to_array(img2))\n",
        "\n",
        "img_array2 = np.reshape(img_data2, (len(img_data2), Size, Size, 3))\n",
        "img_array2 = img_array2.astype('float32')/255."
      ],
      "execution_count": null,
      "outputs": [
        {
          "output_type": "stream",
          "text": [
            "100%|██████████| 115/115 [00:01<00:00, 79.06it/s]\n",
            "100%|██████████| 115/115 [00:00<00:00, 149.76it/s]\n"
          ],
          "name": "stderr"
        }
      ]
    },
    {
      "cell_type": "code",
      "metadata": {
        "colab": {
          "base_uri": "https://localhost:8080/"
        },
        "id": "2ZUcezaIwzCs",
        "outputId": "f1676180-cddb-4917-bcf5-1c92fa20e4a8"
      },
      "source": [
        "model = Sequential()\n",
        "model.add(Conv2D(64, (3, 3), activation = 'relu', padding = 'same', input_shape = (Size, Size, 3)))\n",
        "model.add(Conv2D(128, (3, 3), activation = 'relu', padding = 'same'))\n",
        "model.add(Conv2D(128, (3, 3), activation = 'relu', padding = 'same'))\n",
        "model.add(Conv2D(256, (3, 3), activation = 'relu', padding = 'same'))\n",
        "model.add(Conv2D(256, (3, 3), activation = 'relu', padding = 'same'))\n",
        "model.add(Conv2D(256, (3, 3), activation = 'relu', padding = 'same'))\n",
        "# model.add(Conv2D(512, (3, 3), activation = 'relu', padding = 'same'))\n",
        "# model.add(Conv2D(256, (3, 3), activation = 'relu', padding = 'same'))\n",
        "\n",
        "model.add(Conv2D(128, (3, 3), activation = 'relu', padding = 'same'))\n",
        "model.add(Conv2D(64, (3, 3), activation = 'relu', padding = 'same'))\n",
        "# model.add(Conv2D(32, (3, 3), activation = 'relu', padding = 'same'))\n",
        "# model.add(Conv2D(32, (3, 3), activation = 'relu', padding = 'same'))\n",
        "\n",
        "# model.add(UpSampling2D((2, 2)))\n",
        "# model.add(Conv2D(256, (3, 3), activation = 'relu', padding = 'same'))\n",
        "# model.add(Conv2D(64, (3, 3), activation = 'relu', padding = 'same'))\n",
        "\n",
        "# model.add(UpSampling2D((2, 2)))\n",
        "# model.add(Conv2D(64, (3, 3), activation = 'relu', padding = 'same'))\n",
        "# model.add(UpSampling2D((2,2)))\n",
        "# model.add(Conv2D(128, (3, 3), activation = 'relu', padding = 'same'))\n",
        "# model.add(UpSampling2D((2,2)))\n",
        "model.add(Conv2D(3, (3, 3), activation = 'relu', padding = 'same'))\n",
        "\n",
        "model.compile(optimizer = 'adam', loss = 'mean_squared_error', metrics = ['accuracy'])\n",
        "model.summary()\n",
        "\n",
        "model.fit(img_array, img_array2, epochs = 100, batch_size = 20, validation_split=0.1, verbose = 1)\n",
        "\n",
        "model.save('/content/drive/MyDrive/Copy of val_256/Raks_model_colorization.model') "
      ],
      "execution_count": null,
      "outputs": [
        {
          "output_type": "stream",
          "text": [
            "Model: \"sequential\"\n",
            "_________________________________________________________________\n",
            "Layer (type)                 Output Shape              Param #   \n",
            "=================================================================\n",
            "conv2d (Conv2D)              (None, 256, 256, 64)      1792      \n",
            "_________________________________________________________________\n",
            "conv2d_1 (Conv2D)            (None, 256, 256, 128)     73856     \n",
            "_________________________________________________________________\n",
            "conv2d_2 (Conv2D)            (None, 256, 256, 128)     147584    \n",
            "_________________________________________________________________\n",
            "conv2d_3 (Conv2D)            (None, 256, 256, 256)     295168    \n",
            "_________________________________________________________________\n",
            "conv2d_4 (Conv2D)            (None, 256, 256, 256)     590080    \n",
            "_________________________________________________________________\n",
            "conv2d_5 (Conv2D)            (None, 256, 256, 256)     590080    \n",
            "_________________________________________________________________\n",
            "conv2d_6 (Conv2D)            (None, 256, 256, 128)     295040    \n",
            "_________________________________________________________________\n",
            "conv2d_7 (Conv2D)            (None, 256, 256, 64)      73792     \n",
            "_________________________________________________________________\n",
            "conv2d_8 (Conv2D)            (None, 256, 256, 3)       1731      \n",
            "=================================================================\n",
            "Total params: 2,069,123\n",
            "Trainable params: 2,069,123\n",
            "Non-trainable params: 0\n",
            "_________________________________________________________________\n",
            "Epoch 1/100\n",
            "6/6 [==============================] - 1593s 257s/step - loss: 0.0835 - accuracy: 0.7788 - val_loss: 0.0501 - val_accuracy: 0.0250\n",
            "Epoch 2/100\n",
            "6/6 [==============================] - 1576s 256s/step - loss: 0.0341 - accuracy: 0.0103 - val_loss: 0.0227 - val_accuracy: 0.0000e+00\n",
            "Epoch 3/100\n",
            "6/6 [==============================] - 1573s 255s/step - loss: 0.0229 - accuracy: 0.2034 - val_loss: 0.0215 - val_accuracy: 0.9654\n",
            "Epoch 4/100\n"
          ],
          "name": "stdout"
        }
      ]
    },
    {
      "cell_type": "code",
      "metadata": {
        "id": "Hk5nCsNvy0oz"
      },
      "source": [
        "img_data3 = []\n",
        "\n",
        "img3 = cv2.imread('/content/drive/MyDrive/raks_rgb2nir/test/92_0_rgb.jpg', 1)\n",
        "img3 = cv2.cvtColor(img3, cv2.COLOR_BGR2RGB)\n",
        "img3 = cv2.resize(img3, (Size, Size))\n",
        "img_data3.append(img_to_array(img3))\n",
        "\n",
        "img_array3 = np.reshape(img_data3, (len(img_data3), Size, Size, 3))\n",
        "img_array3 = img_array3.astype('float32')/255."
      ],
      "execution_count": null,
      "outputs": []
    },
    {
      "cell_type": "code",
      "metadata": {
        "colab": {
          "base_uri": "https://localhost:8080/",
          "height": 301
        },
        "id": "rCa_XoH0yD68",
        "outputId": "f015e9a6-6a6d-44a1-e9c2-ed256435d783"
      },
      "source": [
        "print(\"Output\")\n",
        "output = model.predict(img_array3)\n",
        "output2=output[0].reshape(Size, Size, 3)\n",
        "output2=output2*255\n",
        "output2=output2.astype(np.uint8)\n",
        "imshow(output2)\n",
        "cv2.imwrite('/content/drive/MyDrive/raks_rgb2nir/result/92_0_64_128x2_256x3_128_64_100.png', output2)"
      ],
      "execution_count": null,
      "outputs": [
        {
          "output_type": "stream",
          "text": [
            "Output\n"
          ],
          "name": "stdout"
        },
        {
          "output_type": "execute_result",
          "data": {
            "text/plain": [
              "True"
            ]
          },
          "metadata": {
            "tags": []
          },
          "execution_count": 25
        },
        {
          "output_type": "display_data",
          "data": {
            "image/png": "[encoded data removed]",
            "text/plain": [
              "<Figure size 432x288 with 1 Axes>"
            ]
          },
          "metadata": {
            "tags": []
          }
        }
      ]
    }
  ]
}